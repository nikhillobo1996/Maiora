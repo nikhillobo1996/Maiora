{
 "cells": [
  {
   "cell_type": "code",
   "execution_count": 217,
   "id": "97ddea2c-9698-4f25-857a-1181e06204b6",
   "metadata": {},
   "outputs": [],
   "source": [
    "from pyspark.sql import SparkSession\n",
    "from pyspark.sql.functions import lit,from_json,get_json_object,sum,avg\n",
    "from pyspark.sql.types import StructType,StructField, StringType,IntegerType\n",
    "\n",
    "\n",
    "spark = SparkSession.builder.appName(\"q1 answer\").getOrCreate()"
   ]
  },
  {
   "cell_type": "code",
   "execution_count": 218,
   "id": "86f918b7-9cc2-45fd-baf7-ad0f1e678545",
   "metadata": {},
   "outputs": [
    {
     "data": {
      "text/html": [
       "\n",
       "            <div>\n",
       "                <p><b>SparkSession - in-memory</b></p>\n",
       "                \n",
       "        <div>\n",
       "            <p><b>SparkContext</b></p>\n",
       "\n",
       "            <p><a href=\"http://Lobo.mshome.net:4040\">Spark UI</a></p>\n",
       "\n",
       "            <dl>\n",
       "              <dt>Version</dt>\n",
       "                <dd><code>v3.3.0</code></dd>\n",
       "              <dt>Master</dt>\n",
       "                <dd><code>local[*]</code></dd>\n",
       "              <dt>AppName</dt>\n",
       "                <dd><code>q1 answer</code></dd>\n",
       "            </dl>\n",
       "        </div>\n",
       "        \n",
       "            </div>\n",
       "        "
      ],
      "text/plain": [
       "<pyspark.sql.session.SparkSession at 0x172f5bb3040>"
      ]
     },
     "execution_count": 218,
     "metadata": {},
     "output_type": "execute_result"
    }
   ],
   "source": [
    "spark"
   ]
  },
  {
   "cell_type": "code",
   "execution_count": 219,
   "id": "ae042445-e56b-4b22-9e13-7edc3750d24e",
   "metadata": {},
   "outputs": [],
   "source": [
    "schema = StructType([ \\\n",
    "    StructField(\"OrderId\",StringType(),True), \\\n",
    "    StructField(\"OrderItemId\",StringType(),True), \\\n",
    "    StructField(\"QuantityOrdered\",IntegerType(),True), \\\n",
    "    StructField(\"ItemPrice\", IntegerType(), True), \\\n",
    "    StructField(\"PromotionDiscount\", StringType(), True), \\\n",
    "    StructField(\"batch_id\", IntegerType(), True) \\\n",
    "  ])\n",
    " "
   ]
  },
  {
   "cell_type": "code",
   "execution_count": 220,
   "id": "9441f2e3",
   "metadata": {},
   "outputs": [],
   "source": [
    "promoSchema = StructType([ \\\n",
    "    StructField(\"CurrencyCode\",StringType(),True), \\\n",
    "    StructField(\"Amount\",StringType(),True)\n",
    "  ])"
   ]
  },
  {
   "cell_type": "code",
   "execution_count": 221,
   "id": "26b2db77-04dc-4918-93ec-adcaa08bee5c",
   "metadata": {},
   "outputs": [],
   "source": [
    "df1 = spark.read.options(header=True, quote = '\"').option('escape','\"').schema(schema).csv(\"order_region_a.csv\")"
   ]
  },
  {
   "cell_type": "code",
   "execution_count": 222,
   "id": "1a9a8273-ebde-4707-bea9-348b47884d15",
   "metadata": {},
   "outputs": [],
   "source": [
    "df2 = spark.read.options(header=True).option('escape','\"').schema(schema).csv(\"order_region_b.csv\")"
   ]
  },
  {
   "cell_type": "code",
   "execution_count": 223,
   "id": "ab4bdef7-4e1d-4b56-8006-86a5ed5d6911",
   "metadata": {},
   "outputs": [],
   "source": [
    "df1 = df1.withColumn(\"region\",lit(\"A\"))\n",
    "df2 = df2.withColumn(\"region\",lit(\"B\"))\n"
   ]
  },
  {
   "cell_type": "code",
   "execution_count": 224,
   "id": "386a4cd0-f88b-45a2-aa5e-5d991b5b7267",
   "metadata": {},
   "outputs": [
    {
     "name": "stdout",
     "output_type": "stream",
     "text": [
      "+-------------------+-----------+---------------+---------+------------------------------------------+--------+------+\n",
      "|OrderId            |OrderItemId|QuantityOrdered|ItemPrice|PromotionDiscount                         |batch_id|region|\n",
      "+-------------------+-----------+---------------+---------+------------------------------------------+--------+------+\n",
      "|171-0001135-1657958|1.11689E+13|1              |949      |{ \"CurrencyCode\": \"INR\", \"Amount\": \"10\"}  |359     |A     |\n",
      "|171-0001497-9165123|1.97603E+13|1              |699      |{ \"CurrencyCode\": \"INR\", \"Amount\": \"10.1\"}|1135    |A     |\n",
      "|171-0002127-1363507|5.94976E+12|1              |399      |{ \"CurrencyCode\": \"INR\", \"Amount\": \"10\"}  |297     |A     |\n",
      "|171-0002370-0601169|5.75719E+13|1              |499      |{ \"CurrencyCode\": \"INR\", \"Amount\": \"10.1\"}|114     |A     |\n",
      "|171-0004526-2028348|3.38513E+13|1              |1699     |{ \"CurrencyCode\": \"INR\", \"Amount\": \"10\"}  |764     |A     |\n",
      "+-------------------+-----------+---------------+---------+------------------------------------------+--------+------+\n",
      "only showing top 5 rows\n",
      "\n"
     ]
    },
    {
     "data": {
      "text/plain": [
       "44494"
      ]
     },
     "execution_count": 224,
     "metadata": {},
     "output_type": "execute_result"
    }
   ],
   "source": [
    "df1.show(truncate=False,n=5)\n",
    "df1.count()"
   ]
  },
  {
   "cell_type": "code",
   "execution_count": 225,
   "id": "d0f4800b-d4eb-46d0-a2e5-9a80ef766baa",
   "metadata": {},
   "outputs": [
    {
     "name": "stdout",
     "output_type": "stream",
     "text": [
      "+-------------------+-----------+---------------+---------+------------------------------------------+--------+------+\n",
      "|OrderId            |OrderItemId|QuantityOrdered|ItemPrice|PromotionDiscount                         |batch_id|region|\n",
      "+-------------------+-----------+---------------+---------+------------------------------------------+--------+------+\n",
      "|171-0001135-1657958|1.11689E+13|1              |949      |{ \"CurrencyCode\": \"INR\", \"Amount\": \"10\"}  |359     |B     |\n",
      "|171-0001497-9165123|1.97603E+13|1              |699      |{ \"CurrencyCode\": \"INR\", \"Amount\": \"10.1\"}|1135    |B     |\n",
      "|171-0002127-1363507|5.94976E+12|1              |399      |{ \"CurrencyCode\": \"INR\", \"Amount\": \"10\"}  |297     |B     |\n",
      "|171-0002370-0601169|5.75719E+13|1              |499      |{ \"CurrencyCode\": \"INR\", \"Amount\": \"10.1\"}|114     |B     |\n",
      "|171-0004526-2028348|3.38513E+13|1              |1699     |{ \"CurrencyCode\": \"INR\", \"Amount\": \"10\"}  |764     |B     |\n",
      "+-------------------+-----------+---------------+---------+------------------------------------------+--------+------+\n",
      "only showing top 5 rows\n",
      "\n"
     ]
    },
    {
     "data": {
      "text/plain": [
       "44494"
      ]
     },
     "execution_count": 225,
     "metadata": {},
     "output_type": "execute_result"
    }
   ],
   "source": [
    "df2.show(truncate=False,n=5)\n",
    "df2.count()"
   ]
  },
  {
   "cell_type": "code",
   "execution_count": 226,
   "id": "b637e484-0dd9-4eba-9987-ba921e5b2d38",
   "metadata": {},
   "outputs": [],
   "source": [
    "df = df1.union(df2)"
   ]
  },
  {
   "cell_type": "code",
   "execution_count": 227,
   "id": "75cbfbcd-1faa-47d8-ba05-a153d26662f3",
   "metadata": {},
   "outputs": [
    {
     "data": {
      "text/plain": [
       "88988"
      ]
     },
     "execution_count": 227,
     "metadata": {},
     "output_type": "execute_result"
    }
   ],
   "source": [
    "#total records\n",
    "df.count()"
   ]
  },
  {
   "cell_type": "code",
   "execution_count": 228,
   "id": "db02c235",
   "metadata": {},
   "outputs": [],
   "source": [
    "#df = df.withColumn(\"values\",from_json(df[\"PromotionDiscount\"],promoSchema))"
   ]
  },
  {
   "cell_type": "code",
   "execution_count": 229,
   "id": "8ac7b02f",
   "metadata": {},
   "outputs": [],
   "source": [
    "df = df.withColumn(\"discount\",get_json_object(df[\"PromotionDiscount\"],'$.Amount'))"
   ]
  },
  {
   "cell_type": "code",
   "execution_count": 230,
   "id": "dc764e55",
   "metadata": {},
   "outputs": [],
   "source": [
    "df = df.withColumn(\"discount\",df[\"discount\"].cast('float'))"
   ]
  },
  {
   "cell_type": "code",
   "execution_count": 231,
   "id": "cc277626-bf0d-499f-be15-f99fdfb9409e",
   "metadata": {},
   "outputs": [],
   "source": [
    "df = df.withColumn(\"total_sales\",df[\"QuantityOrdered\"] * df[\"ItemPrice\"])"
   ]
  },
  {
   "cell_type": "code",
   "execution_count": 232,
   "id": "7536c7b2-7413-41ea-8b47-639434204b51",
   "metadata": {},
   "outputs": [],
   "source": [
    "df = df.filter(df[\"total_sales\"] >= 0)"
   ]
  },
  {
   "cell_type": "code",
   "execution_count": 233,
   "id": "eeddfed1-4d2a-4d1c-a2ac-d9532ec36bb4",
   "metadata": {},
   "outputs": [
    {
     "name": "stdout",
     "output_type": "stream",
     "text": [
      "+-------------------+-----------+---------------+---------+------------------------------------------+--------+------+--------+-----------+\n",
      "|OrderId            |OrderItemId|QuantityOrdered|ItemPrice|PromotionDiscount                         |batch_id|region|discount|total_sales|\n",
      "+-------------------+-----------+---------------+---------+------------------------------------------+--------+------+--------+-----------+\n",
      "|171-0001135-1657958|1.11689E+13|1              |949      |{ \"CurrencyCode\": \"INR\", \"Amount\": \"10\"}  |359     |A     |10.0    |949        |\n",
      "|171-0001497-9165123|1.97603E+13|1              |699      |{ \"CurrencyCode\": \"INR\", \"Amount\": \"10.1\"}|1135    |A     |10.1    |699        |\n",
      "|171-0002127-1363507|5.94976E+12|1              |399      |{ \"CurrencyCode\": \"INR\", \"Amount\": \"10\"}  |297     |A     |10.0    |399        |\n",
      "|171-0002370-0601169|5.75719E+13|1              |499      |{ \"CurrencyCode\": \"INR\", \"Amount\": \"10.1\"}|114     |A     |10.1    |499        |\n",
      "|171-0004526-2028348|3.38513E+13|1              |1699     |{ \"CurrencyCode\": \"INR\", \"Amount\": \"10\"}  |764     |A     |10.0    |1699       |\n",
      "+-------------------+-----------+---------------+---------+------------------------------------------+--------+------+--------+-----------+\n",
      "only showing top 5 rows\n",
      "\n"
     ]
    }
   ],
   "source": [
    "df.show(truncate = False,n=5)"
   ]
  },
  {
   "cell_type": "code",
   "execution_count": 234,
   "id": "547defcd-ee15-4658-922c-98ed13f6e2dc",
   "metadata": {},
   "outputs": [],
   "source": [
    "df = df.withColumn(\"net_sales\",df[\"total_sales\"] - df[\"discount\"])"
   ]
  },
  {
   "cell_type": "code",
   "execution_count": 235,
   "id": "b0691e38-7a76-4368-86b9-0896afb24e55",
   "metadata": {},
   "outputs": [
    {
     "name": "stdout",
     "output_type": "stream",
     "text": [
      "+-------------------+-----------+---------------+---------+------------------------------------------+--------+------+--------+-----------+---------+\n",
      "|OrderId            |OrderItemId|QuantityOrdered|ItemPrice|PromotionDiscount                         |batch_id|region|discount|total_sales|net_sales|\n",
      "+-------------------+-----------+---------------+---------+------------------------------------------+--------+------+--------+-----------+---------+\n",
      "|171-0001135-1657958|1.11689E+13|1              |949      |{ \"CurrencyCode\": \"INR\", \"Amount\": \"10\"}  |359     |A     |10.0    |949        |939.0    |\n",
      "|171-0001497-9165123|1.97603E+13|1              |699      |{ \"CurrencyCode\": \"INR\", \"Amount\": \"10.1\"}|1135    |A     |10.1    |699        |688.9    |\n",
      "|171-0002127-1363507|5.94976E+12|1              |399      |{ \"CurrencyCode\": \"INR\", \"Amount\": \"10\"}  |297     |A     |10.0    |399        |389.0    |\n",
      "|171-0002370-0601169|5.75719E+13|1              |499      |{ \"CurrencyCode\": \"INR\", \"Amount\": \"10.1\"}|114     |A     |10.1    |499        |488.9    |\n",
      "|171-0004526-2028348|3.38513E+13|1              |1699     |{ \"CurrencyCode\": \"INR\", \"Amount\": \"10\"}  |764     |A     |10.0    |1699       |1689.0   |\n",
      "+-------------------+-----------+---------------+---------+------------------------------------------+--------+------+--------+-----------+---------+\n",
      "only showing top 5 rows\n",
      "\n"
     ]
    }
   ],
   "source": [
    "df.show(truncate=False,n=5)"
   ]
  },
  {
   "cell_type": "code",
   "execution_count": 236,
   "id": "2fb2e74c-157c-49ea-a17d-e3ccb28ca093",
   "metadata": {},
   "outputs": [
    {
     "name": "stdout",
     "output_type": "stream",
     "text": [
      "+------+------------+\n",
      "|region|Region Sales|\n",
      "+------+------------+\n",
      "|A     |37210388    |\n",
      "|B     |37210388    |\n",
      "+------+------------+\n",
      "\n"
     ]
    }
   ],
   "source": [
    "##  total sales based on region \n",
    "df_regionSales = df.groupBy(\"region\").agg(sum(\"total_sales\").alias(\"Region Sales\"))\n",
    "df_regionSales.show(truncate=False,n=5)\n",
    "\n",
    "\n"
   ]
  },
  {
   "cell_type": "code",
   "execution_count": 237,
   "id": "37f17880",
   "metadata": {},
   "outputs": [
    {
     "name": "stdout",
     "output_type": "stream",
     "text": [
      "+------+--------------------+\n",
      "|region|net Region Sales    |\n",
      "+------+--------------------+\n",
      "|A     |3.6767371867889404E7|\n",
      "|B     |3.6767371867889404E7|\n",
      "+------+--------------------+\n",
      "\n"
     ]
    }
   ],
   "source": [
    "##  net sales based on region \n",
    "df_regionSales = df.groupBy(\"region\").agg(sum(\"net_sales\").alias(\"net Region Sales\"))\n",
    "df_regionSales.show(truncate=False,n=5)"
   ]
  },
  {
   "cell_type": "code",
   "execution_count": 238,
   "id": "cc2141d3",
   "metadata": {},
   "outputs": [
    {
     "name": "stdout",
     "output_type": "stream",
     "text": [
      "+----------------+\n",
      "|avg(total_sales)|\n",
      "+----------------+\n",
      "|844.136657516844|\n",
      "+----------------+\n",
      "\n"
     ]
    }
   ],
   "source": [
    "## avgerage sales based on total sales\n",
    "df_avgTotalSale = df.agg(avg(\"total_sales\"))\n",
    "df_avgTotalSale.show(truncate=False,n=5)"
   ]
  },
  {
   "cell_type": "code",
   "execution_count": 239,
   "id": "a746e1e0",
   "metadata": {},
   "outputs": [
    {
     "name": "stdout",
     "output_type": "stream",
     "text": [
      "+-----------------+\n",
      "|avg(net_sales)   |\n",
      "+-----------------+\n",
      "|834.0866102831017|\n",
      "+-----------------+\n",
      "\n"
     ]
    }
   ],
   "source": [
    "## avgerage sales based on net sales\n",
    "df_avgTotalSale = df.agg(avg(\"net_sales\"))\n",
    "df_avgTotalSale.show(truncate=False,n=5)"
   ]
  },
  {
   "cell_type": "code",
   "execution_count": 240,
   "id": "f9cebc19",
   "metadata": {},
   "outputs": [
    {
     "name": "stdout",
     "output_type": "stream",
     "text": [
      "+-----------------+\n",
      "|avg(net_sales)   |\n",
      "+-----------------+\n",
      "|834.0866102831017|\n",
      "+-----------------+\n",
      "\n"
     ]
    }
   ],
   "source": [
    "\n",
    "\n",
    "df_avgNetSale = df.agg(avg(\"net_sales\"))\n",
    "df_avgNetSale.show(truncate=False,n=5)"
   ]
  },
  {
   "cell_type": "code",
   "execution_count": 241,
   "id": "e203ff8c",
   "metadata": {},
   "outputs": [],
   "source": [
    "### Removing duplicates based on OrderID\n",
    "\n",
    "df = df.drop_duplicates(subset=['OrderId'])"
   ]
  },
  {
   "cell_type": "code",
   "execution_count": 242,
   "id": "72260ab0",
   "metadata": {},
   "outputs": [
    {
     "name": "stdout",
     "output_type": "stream",
     "text": [
      "+-------------------+-----------+---------------+---------+------------------------------------------+--------+------+--------+-----------+---------+\n",
      "|OrderId            |OrderItemId|QuantityOrdered|ItemPrice|PromotionDiscount                         |batch_id|region|discount|total_sales|net_sales|\n",
      "+-------------------+-----------+---------------+---------+------------------------------------------+--------+------+--------+-----------+---------+\n",
      "|171-0008037-3788355|2.24569E+13|1              |499      |{ \"CurrencyCode\": \"INR\", \"Amount\": \"10.1\"}|232     |A     |10.1    |499        |488.9    |\n",
      "|171-0008662-0057942|6.63267E+13|1              |599      |{ \"CurrencyCode\": \"INR\", \"Amount\": \"10.1\"}|122     |A     |10.1    |599        |588.9    |\n",
      "|171-0010803-5365973|2.11352E+13|1              |299      |{ \"CurrencyCode\": \"INR\", \"Amount\": \"10.1\"}|669     |A     |10.1    |299        |288.9    |\n",
      "|171-0015668-5065935|8.91807E+12|1              |699      |{ \"CurrencyCode\": \"INR\", \"Amount\": \"10\"}  |709     |A     |10.0    |699        |689.0    |\n",
      "|171-0016430-9547521|3.52665E+12|1              |499      |{ \"CurrencyCode\": \"INR\", \"Amount\": \"10.1\"}|325     |A     |10.1    |499        |488.9    |\n",
      "+-------------------+-----------+---------------+---------+------------------------------------------+--------+------+--------+-----------+---------+\n",
      "only showing top 5 rows\n",
      "\n"
     ]
    }
   ],
   "source": [
    "df.show(truncate=False,n=5)\n"
   ]
  },
  {
   "cell_type": "code",
   "execution_count": 243,
   "id": "76eb7b21",
   "metadata": {},
   "outputs": [
    {
     "name": "stdout",
     "output_type": "stream",
     "text": [
      "root\n",
      " |-- OrderId: string (nullable = true)\n",
      " |-- OrderItemId: string (nullable = true)\n",
      " |-- QuantityOrdered: integer (nullable = true)\n",
      " |-- ItemPrice: integer (nullable = true)\n",
      " |-- PromotionDiscount: string (nullable = true)\n",
      " |-- batch_id: integer (nullable = true)\n",
      " |-- region: string (nullable = false)\n",
      " |-- discount: float (nullable = true)\n",
      " |-- total_sales: integer (nullable = true)\n",
      " |-- net_sales: float (nullable = true)\n",
      "\n"
     ]
    }
   ],
   "source": [
    "df.printSchema()"
   ]
  },
  {
   "cell_type": "code",
   "execution_count": null,
   "id": "b9f32e37",
   "metadata": {},
   "outputs": [],
   "source": []
  },
  {
   "cell_type": "code",
   "execution_count": null,
   "id": "59de2893",
   "metadata": {},
   "outputs": [],
   "source": []
  }
 ],
 "metadata": {
  "kernelspec": {
   "display_name": "myenvkernel",
   "language": "python",
   "name": "myenvkernel"
  },
  "language_info": {
   "codemirror_mode": {
    "name": "ipython",
    "version": 3
   },
   "file_extension": ".py",
   "mimetype": "text/x-python",
   "name": "python",
   "nbconvert_exporter": "python",
   "pygments_lexer": "ipython3",
   "version": "3.10.5"
  }
 },
 "nbformat": 4,
 "nbformat_minor": 5
}

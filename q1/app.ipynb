{
 "cells": [
  {
   "cell_type": "code",
   "execution_count": 108,
   "id": "97ddea2c-9698-4f25-857a-1181e06204b6",
   "metadata": {},
   "outputs": [],
   "source": [
    "from pyspark.sql import SparkSession\n",
    "from pyspark.sql.functions import lit,from_json,get_json_object\n",
    "from pyspark.sql.types import StructType,StructField, StringType,IntegerType\n",
    "\n",
    "\n",
    "spark = SparkSession.builder.appName(\"q1 answer\").getOrCreate()"
   ]
  },
  {
   "cell_type": "code",
   "execution_count": 109,
   "id": "86f918b7-9cc2-45fd-baf7-ad0f1e678545",
   "metadata": {},
   "outputs": [
    {
     "data": {
      "text/html": [
       "\n",
       "            <div>\n",
       "                <p><b>SparkSession - in-memory</b></p>\n",
       "                \n",
       "        <div>\n",
       "            <p><b>SparkContext</b></p>\n",
       "\n",
       "            <p><a href=\"http://Lobo:4040\">Spark UI</a></p>\n",
       "\n",
       "            <dl>\n",
       "              <dt>Version</dt>\n",
       "                <dd><code>v3.3.0</code></dd>\n",
       "              <dt>Master</dt>\n",
       "                <dd><code>local[*]</code></dd>\n",
       "              <dt>AppName</dt>\n",
       "                <dd><code>q1 answer</code></dd>\n",
       "            </dl>\n",
       "        </div>\n",
       "        \n",
       "            </div>\n",
       "        "
      ],
      "text/plain": [
       "<pyspark.sql.session.SparkSession at 0x201027f3bb0>"
      ]
     },
     "execution_count": 109,
     "metadata": {},
     "output_type": "execute_result"
    }
   ],
   "source": [
    "spark"
   ]
  },
  {
   "cell_type": "code",
   "execution_count": 110,
   "id": "ae042445-e56b-4b22-9e13-7edc3750d24e",
   "metadata": {},
   "outputs": [],
   "source": [
    "schema = StructType([ \\\n",
    "    StructField(\"OrderId\",StringType(),True), \\\n",
    "    StructField(\"OrderItemId\",StringType(),True), \\\n",
    "    StructField(\"QuantityOrdered\",IntegerType(),True), \\\n",
    "    StructField(\"ItemPrice\", IntegerType(), True), \\\n",
    "    StructField(\"PromotionDiscount\", StringType(), True), \\\n",
    "    StructField(\"batch_id\", IntegerType(), True) \\\n",
    "  ])\n",
    " "
   ]
  },
  {
   "cell_type": "code",
   "execution_count": 117,
   "id": "26b2db77-04dc-4918-93ec-adcaa08bee5c",
   "metadata": {},
   "outputs": [],
   "source": [
    "df1 = spark.read.options(header=True, quote = '\"').schema(schema).csv(\"order_region_a.csv\")"
   ]
  },
  {
   "cell_type": "code",
   "execution_count": 118,
   "id": "1a9a8273-ebde-4707-bea9-348b47884d15",
   "metadata": {},
   "outputs": [],
   "source": [
    "df2 = spark.read.options(header=True).schema(schema).csv(\"order_region_b.csv\")"
   ]
  },
  {
   "cell_type": "code",
   "execution_count": 119,
   "id": "ab4bdef7-4e1d-4b56-8006-86a5ed5d6911",
   "metadata": {},
   "outputs": [],
   "source": [
    "df1 = df1.withColumn(\"region\",lit(\"A\"))\n",
    "df2 = df2.withColumn(\"region\",lit(\"B\"))\n"
   ]
  },
  {
   "cell_type": "code",
   "execution_count": 121,
   "id": "386a4cd0-f88b-45a2-aa5e-5d991b5b7267",
   "metadata": {},
   "outputs": [
    {
     "name": "stdout",
     "output_type": "stream",
     "text": [
      "+-------------------+-----------+---------------+---------+----------------------------+--------+------+\n",
      "|OrderId            |OrderItemId|QuantityOrdered|ItemPrice|PromotionDiscount           |batch_id|region|\n",
      "+-------------------+-----------+---------------+---------+----------------------------+--------+------+\n",
      "|171-0001135-1657958|1.11689E+13|1              |949      |\"{ \"\"CurrencyCode\"\": \"\"INR\"\"|null    |A     |\n",
      "|171-0001497-9165123|1.97603E+13|1              |699      |\"{ \"\"CurrencyCode\"\": \"\"INR\"\"|null    |A     |\n",
      "|171-0002127-1363507|5.94976E+12|1              |399      |\"{ \"\"CurrencyCode\"\": \"\"INR\"\"|null    |A     |\n",
      "|171-0002370-0601169|5.75719E+13|1              |499      |\"{ \"\"CurrencyCode\"\": \"\"INR\"\"|null    |A     |\n",
      "|171-0004526-2028348|3.38513E+13|1              |1699     |\"{ \"\"CurrencyCode\"\": \"\"INR\"\"|null    |A     |\n",
      "|171-0004781-3853173|4.36861E+13|1              |399      |\"{ \"\"CurrencyCode\"\": \"\"INR\"\"|null    |A     |\n",
      "|171-0004947-4305927|1.59414E+13|1              |1399     |\"{ \"\"CurrencyCode\"\": \"\"INR\"\"|null    |A     |\n",
      "|171-0004947-4305927|1.59414E+13|1              |1399     |\"{ \"\"CurrencyCode\"\": \"\"INR\"\"|null    |A     |\n",
      "|171-0005467-8036365|3.39524E+13|1              |349      |\"{ \"\"CurrencyCode\"\": \"\"INR\"\"|null    |A     |\n",
      "|171-0006030-2254725|3.14562E+13|1              |499      |\"{ \"\"CurrencyCode\"\": \"\"INR\"\"|null    |A     |\n",
      "|171-0006682-9937168|2.91589E+12|1              |549      |\"{ \"\"CurrencyCode\"\": \"\"INR\"\"|null    |A     |\n",
      "|171-0008037-3788355|2.24569E+13|1              |499      |\"{ \"\"CurrencyCode\"\": \"\"INR\"\"|null    |A     |\n",
      "|171-0008659-1412343|4.58417E+13|1              |2899     |\"{ \"\"CurrencyCode\"\": \"\"INR\"\"|null    |A     |\n",
      "|171-0008662-0057942|6.63267E+13|1              |599      |\"{ \"\"CurrencyCode\"\": \"\"INR\"\"|null    |A     |\n",
      "|171-0010322-1769977|4.74592E+13|1              |399      |\"{ \"\"CurrencyCode\"\": \"\"INR\"\"|null    |A     |\n",
      "|171-0010803-5365973|2.11352E+13|1              |299      |\"{ \"\"CurrencyCode\"\": \"\"INR\"\"|null    |A     |\n",
      "|171-0011025-3910737|1.82077E+13|1              |1499     |\"{ \"\"CurrencyCode\"\": \"\"INR\"\"|null    |A     |\n",
      "|171-0015661-5525128|5.23226E+13|1              |1199     |\"{ \"\"CurrencyCode\"\": \"\"INR\"\"|null    |A     |\n",
      "|171-0015668-5065935|8.91807E+12|1              |699      |\"{ \"\"CurrencyCode\"\": \"\"INR\"\"|null    |A     |\n",
      "|171-0016430-9547521|3.52665E+12|1              |499      |\"{ \"\"CurrencyCode\"\": \"\"INR\"\"|null    |A     |\n",
      "+-------------------+-----------+---------------+---------+----------------------------+--------+------+\n",
      "only showing top 20 rows\n",
      "\n"
     ]
    },
    {
     "data": {
      "text/plain": [
       "44494"
      ]
     },
     "execution_count": 121,
     "metadata": {},
     "output_type": "execute_result"
    }
   ],
   "source": [
    "df1.show(truncate=False)\n",
    "df1.count()"
   ]
  },
  {
   "cell_type": "code",
   "execution_count": 115,
   "id": "d0f4800b-d4eb-46d0-a2e5-9a80ef766baa",
   "metadata": {},
   "outputs": [
    {
     "name": "stdout",
     "output_type": "stream",
     "text": [
      "+-------------------+-----------+---------------+---------+----------------------------+--------+------+\n",
      "|OrderId            |OrderItemId|QuantityOrdered|ItemPrice|PromotionDiscount           |batch_id|region|\n",
      "+-------------------+-----------+---------------+---------+----------------------------+--------+------+\n",
      "|171-0001135-1657958|1.11689E+13|1              |949      |\"{ \"\"CurrencyCode\"\": \"\"INR\"\"|null    |B     |\n",
      "|171-0001497-9165123|1.97603E+13|1              |699      |\"{ \"\"CurrencyCode\"\": \"\"INR\"\"|null    |B     |\n",
      "|171-0002127-1363507|5.94976E+12|1              |399      |\"{ \"\"CurrencyCode\"\": \"\"INR\"\"|null    |B     |\n",
      "|171-0002370-0601169|5.75719E+13|1              |499      |\"{ \"\"CurrencyCode\"\": \"\"INR\"\"|null    |B     |\n",
      "|171-0004526-2028348|3.38513E+13|1              |1699     |\"{ \"\"CurrencyCode\"\": \"\"INR\"\"|null    |B     |\n",
      "|171-0004781-3853173|4.36861E+13|1              |399      |\"{ \"\"CurrencyCode\"\": \"\"INR\"\"|null    |B     |\n",
      "|171-0004947-4305927|1.59414E+13|1              |1399     |\"{ \"\"CurrencyCode\"\": \"\"INR\"\"|null    |B     |\n",
      "|171-0004947-4305927|1.59414E+13|1              |1399     |\"{ \"\"CurrencyCode\"\": \"\"INR\"\"|null    |B     |\n",
      "|171-0005467-8036365|3.39524E+13|1              |349      |\"{ \"\"CurrencyCode\"\": \"\"INR\"\"|null    |B     |\n",
      "|171-0006030-2254725|3.14562E+13|1              |499      |\"{ \"\"CurrencyCode\"\": \"\"INR\"\"|null    |B     |\n",
      "|171-0006682-9937168|2.91589E+12|1              |549      |\"{ \"\"CurrencyCode\"\": \"\"INR\"\"|null    |B     |\n",
      "|171-0008037-3788355|2.24569E+13|1              |499      |\"{ \"\"CurrencyCode\"\": \"\"INR\"\"|null    |B     |\n",
      "|171-0008659-1412343|4.58417E+13|1              |2899     |\"{ \"\"CurrencyCode\"\": \"\"INR\"\"|null    |B     |\n",
      "|171-0008662-0057942|6.63267E+13|1              |599      |\"{ \"\"CurrencyCode\"\": \"\"INR\"\"|null    |B     |\n",
      "|171-0010322-1769977|4.74592E+13|1              |399      |\"{ \"\"CurrencyCode\"\": \"\"INR\"\"|null    |B     |\n",
      "|171-0010803-5365973|2.11352E+13|1              |299      |\"{ \"\"CurrencyCode\"\": \"\"INR\"\"|null    |B     |\n",
      "|171-0011025-3910737|1.82077E+13|1              |1499     |\"{ \"\"CurrencyCode\"\": \"\"INR\"\"|null    |B     |\n",
      "|171-0015661-5525128|5.23226E+13|1              |1199     |\"{ \"\"CurrencyCode\"\": \"\"INR\"\"|null    |B     |\n",
      "|171-0015668-5065935|8.91807E+12|1              |699      |\"{ \"\"CurrencyCode\"\": \"\"INR\"\"|null    |B     |\n",
      "|171-0016430-9547521|3.52665E+12|1              |499      |\"{ \"\"CurrencyCode\"\": \"\"INR\"\"|null    |B     |\n",
      "+-------------------+-----------+---------------+---------+----------------------------+--------+------+\n",
      "only showing top 20 rows\n",
      "\n"
     ]
    },
    {
     "data": {
      "text/plain": [
       "44494"
      ]
     },
     "execution_count": 115,
     "metadata": {},
     "output_type": "execute_result"
    }
   ],
   "source": [
    "df2.show(truncate=False)\n",
    "df2.count()"
   ]
  },
  {
   "cell_type": "code",
   "execution_count": 69,
   "id": "b637e484-0dd9-4eba-9987-ba921e5b2d38",
   "metadata": {},
   "outputs": [],
   "source": [
    "df = df1.union(df2)"
   ]
  },
  {
   "cell_type": "code",
   "execution_count": 70,
   "id": "75cbfbcd-1faa-47d8-ba05-a153d26662f3",
   "metadata": {},
   "outputs": [
    {
     "data": {
      "text/plain": [
       "88988"
      ]
     },
     "execution_count": 70,
     "metadata": {},
     "output_type": "execute_result"
    }
   ],
   "source": [
    "df.count()"
   ]
  },
  {
   "cell_type": "code",
   "execution_count": 71,
   "id": "29216534-b9ef-400d-ab64-32b0e58db5eb",
   "metadata": {},
   "outputs": [],
   "source": [
    "df = df.drop_duplicates(subset=['OrderId'])"
   ]
  },
  {
   "cell_type": "code",
   "execution_count": 72,
   "id": "8f3c2a2e-e14a-4a6c-9eb9-9da25df07f20",
   "metadata": {},
   "outputs": [
    {
     "data": {
      "text/plain": [
       "41107"
      ]
     },
     "execution_count": 72,
     "metadata": {},
     "output_type": "execute_result"
    }
   ],
   "source": [
    "df.count()"
   ]
  },
  {
   "cell_type": "code",
   "execution_count": 73,
   "id": "cc277626-bf0d-499f-be15-f99fdfb9409e",
   "metadata": {},
   "outputs": [],
   "source": [
    "df = df.withColumn(\"total_sales\",df[\"QuantityOrdered\"] * df[\"ItemPrice\"])"
   ]
  },
  {
   "cell_type": "code",
   "execution_count": null,
   "id": "7536c7b2-7413-41ea-8b47-639434204b51",
   "metadata": {},
   "outputs": [],
   "source": [
    "df = df.filter(df[\"total_sales\"] >= 0)"
   ]
  },
  {
   "cell_type": "code",
   "execution_count": 76,
   "id": "321fe1f0-2439-4a98-9e17-f7bc4c108594",
   "metadata": {},
   "outputs": [],
   "source": [
    "promoSchema = StructType([ \\\n",
    "    StructField(\"CurrencyCode\",StringType(),True), \\\n",
    "    StructField(\"Amount\",StringType(),True)\n",
    "  ])"
   ]
  },
  {
   "cell_type": "code",
   "execution_count": 77,
   "id": "18faf4cd-822c-45d3-849c-a94d1d893a0f",
   "metadata": {},
   "outputs": [],
   "source": [
    "df = df.withColumn(\"discount\",from_json(df[\"PromotionDiscount\"],promoSchema))"
   ]
  },
  {
   "cell_type": "code",
   "execution_count": 78,
   "id": "eeddfed1-4d2a-4d1c-a2ac-d9532ec36bb4",
   "metadata": {},
   "outputs": [
    {
     "name": "stdout",
     "output_type": "stream",
     "text": [
      "+-------------------+-----------+---------------+---------+--------------------+--------------------+------+-----------+------------+\n",
      "|            OrderId|OrderItemId|QuantityOrdered|ItemPrice|   PromotionDiscount|            batch_id|region|total_sales|    discount|\n",
      "+-------------------+-----------+---------------+---------+--------------------+--------------------+------+-----------+------------+\n",
      "|171-0006030-2254725|3.14562E+13|              1|      499|\"{ \"\"CurrencyCode...| \"\"Amount\"\": \"\"10...|     A|      499.0|{null, null}|\n",
      "|171-0008037-3788355|2.24569E+13|              1|      499|\"{ \"\"CurrencyCode...| \"\"Amount\"\": \"\"10...|     A|      499.0|{null, null}|\n",
      "|171-0008662-0057942|6.63267E+13|              1|      599|\"{ \"\"CurrencyCode...| \"\"Amount\"\": \"\"10...|     A|      599.0|{null, null}|\n",
      "|171-0010803-5365973|2.11352E+13|              1|      299|\"{ \"\"CurrencyCode...| \"\"Amount\"\": \"\"10...|     A|      299.0|{null, null}|\n",
      "|171-0015668-5065935|8.91807E+12|              1|      699|\"{ \"\"CurrencyCode...| \"\"Amount\"\": \"\"10...|     A|      699.0|{null, null}|\n",
      "|171-0016430-9547521|3.52665E+12|              1|      499|\"{ \"\"CurrencyCode...| \"\"Amount\"\": \"\"10...|     A|      499.0|{null, null}|\n",
      "|171-0020871-3057976|3.16393E+13|              1|     1139|\"{ \"\"CurrencyCode...| \"\"Amount\"\": \"\"10...|     A|     1139.0|{null, null}|\n",
      "|171-0022424-6354758|2.54316E+13|              1|      949|\"{ \"\"CurrencyCode...| \"\"Amount\"\": \"\"10...|     A|      949.0|{null, null}|\n",
      "|171-0022807-7934716|5.92427E+12|              1|      999|\"{ \"\"CurrencyCode...| \"\"Amount\"\": \"\"10...|     A|      999.0|{null, null}|\n",
      "|171-0024838-4383551|2.81677E+13|              1|      629|\"{ \"\"CurrencyCode...| \"\"Amount\"\": \"\"10...|     A|      629.0|{null, null}|\n",
      "|171-0026175-0529902| 5.2857E+13|              1|      349|\"{ \"\"CurrencyCode...| \"\"Amount\"\": \"\"10...|     A|      349.0|{null, null}|\n",
      "|171-0027470-8653903|2.52005E+13|              1|   465.25|\"{ \"\"CurrencyCode...| \"\"Amount\"\": \"\"10...|     A|     465.25|{null, null}|\n",
      "|171-0028127-6647532|5.17646E+13|              1|      699|\"{ \"\"CurrencyCode...| \"\"Amount\"\": \"\"10...|     A|      699.0|{null, null}|\n",
      "|171-0029459-4938769|1.22695E+13|              1|      549|\"{ \"\"CurrencyCode...| \"\"Amount\"\": \"\"10...|     A|      549.0|{null, null}|\n",
      "|171-0029785-0689923|5.48845E+13|              1|      521|\"{ \"\"CurrencyCode...| \"\"Amount\"\": \"\"10...|     A|      521.0|{null, null}|\n",
      "|171-0036328-6765939| 4.6687E+13|              1|      499|\"{ \"\"CurrencyCode...| \"\"Amount\"\": \"\"10...|     A|      499.0|{null, null}|\n",
      "|171-0043140-1568305|3.65143E+13|              1|      499|\"{ \"\"CurrencyCode...| \"\"Amount\"\": \"\"10...|     A|      499.0|{null, null}|\n",
      "|171-0044266-2647532| 5.2913E+13|              1|      999|\"{ \"\"CurrencyCode...| \"\"Amount\"\": \"\"10...|     A|      999.0|{null, null}|\n",
      "|171-0048452-6955542|4.47921E+13|              1|      599|\"{ \"\"CurrencyCode...| \"\"Amount\"\": \"\"10...|     A|      599.0|{null, null}|\n",
      "|171-0049412-6503559|6.61179E+13|              1|      699|\"{ \"\"CurrencyCode...| \"\"Amount\"\": \"\"10...|     A|      699.0|{null, null}|\n",
      "+-------------------+-----------+---------------+---------+--------------------+--------------------+------+-----------+------------+\n",
      "only showing top 20 rows\n",
      "\n"
     ]
    }
   ],
   "source": [
    "df.show()"
   ]
  },
  {
   "cell_type": "code",
   "execution_count": null,
   "id": "547defcd-ee15-4658-922c-98ed13f6e2dc",
   "metadata": {},
   "outputs": [],
   "source": [
    "df = df.withColumn(\"net_sale\",df[\"total_sales\"] - df[\"PromotionDiscount\"])"
   ]
  },
  {
   "cell_type": "code",
   "execution_count": null,
   "id": "b0691e38-7a76-4368-86b9-0896afb24e55",
   "metadata": {},
   "outputs": [],
   "source": [
    "df.show(truncate=False)"
   ]
  },
  {
   "cell_type": "code",
   "execution_count": null,
   "id": "2fb2e74c-157c-49ea-a17d-e3ccb28ca093",
   "metadata": {},
   "outputs": [],
   "source": []
  }
 ],
 "metadata": {
  "kernelspec": {
   "display_name": "myenvkernel",
   "language": "python",
   "name": "myenvkernel"
  },
  "language_info": {
   "codemirror_mode": {
    "name": "ipython",
    "version": 3
   },
   "file_extension": ".py",
   "mimetype": "text/x-python",
   "name": "python",
   "nbconvert_exporter": "python",
   "pygments_lexer": "ipython3",
   "version": "3.10.5"
  }
 },
 "nbformat": 4,
 "nbformat_minor": 5
}
